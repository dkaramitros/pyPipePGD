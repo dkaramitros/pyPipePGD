{
 "cells": [
  {
   "cell_type": "markdown",
   "metadata": {},
   "source": [
    "# Buried pipelines crossing active strike-slip faults"
   ]
  },
  {
   "cell_type": "markdown",
   "metadata": {},
   "source": [
    "Basic information to be added."
   ]
  },
  {
   "cell_type": "code",
   "execution_count": 1,
   "metadata": {},
   "outputs": [],
   "source": [
    "import numpy as np"
   ]
  },
  {
   "cell_type": "markdown",
   "metadata": {},
   "source": [
    "## Input variables"
   ]
  },
  {
   "cell_type": "code",
   "execution_count": 2,
   "metadata": {},
   "outputs": [],
   "source": [
    "# Pipeline geometry\n",
    "D = 0.9144\n",
    "t = 0.0119\n",
    "Rm = (D - t) / 2\n",
    "As = 2 * np.pi * Rm * t\n",
    "I = np.pi * Rm**3 * t\n",
    "\n",
    "# Pipeline steel\n",
    "E1 = 210e6\n",
    "s1 = 490e3\n",
    "s2 = 531e3\n",
    "e2 = 0.04\n",
    "e1 = s1 / E1\n",
    "E2 = (s2 - s1) / (e2 - e1)"
   ]
  },
  {
   "cell_type": "code",
   "execution_count": 3,
   "metadata": {},
   "outputs": [],
   "source": [
    "# Soil parameters\n",
    "tu = 40.5\n",
    "qu = 318.6\n",
    "xu = 11.4\n",
    "k = qu / xu\n",
    "k2 = tu / xu"
   ]
  },
  {
   "cell_type": "code",
   "execution_count": null,
   "metadata": {},
   "outputs": [],
   "source": []
  }
 ],
 "metadata": {
  "kernelspec": {
   "display_name": "base",
   "language": "python",
   "name": "python3"
  },
  "language_info": {
   "codemirror_mode": {
    "name": "ipython",
    "version": 3
   },
   "file_extension": ".py",
   "mimetype": "text/x-python",
   "name": "python",
   "nbconvert_exporter": "python",
   "pygments_lexer": "ipython3",
   "version": "3.12.4"
  }
 },
 "nbformat": 4,
 "nbformat_minor": 2
}
